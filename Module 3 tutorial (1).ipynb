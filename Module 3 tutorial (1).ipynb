{
 "cells": [
  {
   "cell_type": "markdown",
   "id": "a15f1490-1c93-4a77-974a-238f01ded993",
   "metadata": {},
   "source": [
    "Brittany Fox\n",
    "Module 3 Tutorial"
   ]
  },
  {
   "cell_type": "code",
   "execution_count": 4,
   "id": "01eb1b25-e467-4bfc-85a9-0f0b2518f6e9",
   "metadata": {},
   "outputs": [],
   "source": [
    "# Sorting an array of 0's, 1's, and 2's:\n",
    "\n",
    "class Solution:\n",
    "    \n",
    "    def sort012(self, arr):\n",
    "        low, mid, high = 0, 0, len(arr) - 1\n",
    "\n",
    "        while mid <= high:\n",
    "            if arr[mid] == 0:\n",
    "                arr[low], arr[mid] = arr[mid], arr[low]  # Swap the elements\n",
    "                low += 1\n",
    "                mid += 1\n",
    "            elif arr[mid] == 1:\n",
    "                mid += 1\n",
    "            else:\n",
    "                arr[mid], arr[high] = arr[high], arr[mid]  # Swap the elements\n",
    "                high -= 1"
   ]
  },
  {
   "cell_type": "code",
   "execution_count": 6,
   "id": "c57ef464-73a7-4ef1-8e96-c96a7b4ab9fb",
   "metadata": {},
   "outputs": [],
   "source": [
    "#Binary Search:\n",
    "\n",
    "class Solution:\n",
    "    # Function to perform binary search recursively\n",
    "    def bin_search(self, arr, left, right, k):\n",
    "        if left > right:\n",
    "            return -1  # If left pointer exceeds right pointer, element not found\n",
    "        mid = (left + right) // 2  # Calculate mid index\n",
    "        if arr[mid] == k:\n",
    "            return mid  # If element is found at mid index, return index\n",
    "        if arr[mid] > k:\n",
    "            return self.bin_search(\n",
    "                arr, left, mid - 1, k\n",
    "            )  # If less than mid then binary search is done on left subarray\n",
    "        else:\n",
    "            return self.bin_search(\n",
    "                arr, mid + 1, right, k\n",
    "            )  # If greater than mid then binary search is done on right subarray\n",
    "\n",
    "    # Function for the binary search\n",
    "    def binarysearch(self, arr, k):\n",
    "        n = len(arr)\n",
    "        return self.bin_search(arr, 0, n - 1, k)  # Perform binary search on the entire array"
   ]
  },
  {
   "cell_type": "code",
   "execution_count": null,
   "id": "1e9d04ab-7d61-4c79-ab97-eacf152eb199",
   "metadata": {},
   "outputs": [],
   "source": []
  }
 ],
 "metadata": {
  "kernelspec": {
   "display_name": "anaconda-2024.02-py310",
   "language": "python",
   "name": "conda-env-anaconda-2024.02-py310-py"
  },
  "language_info": {
   "codemirror_mode": {
    "name": "ipython",
    "version": 3
   },
   "file_extension": ".py",
   "mimetype": "text/x-python",
   "name": "python",
   "nbconvert_exporter": "python",
   "pygments_lexer": "ipython3",
   "version": "3.10.14"
  }
 },
 "nbformat": 4,
 "nbformat_minor": 5
}
